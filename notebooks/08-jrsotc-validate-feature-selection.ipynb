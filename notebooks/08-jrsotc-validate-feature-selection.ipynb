{
 "cells": [
  {
   "cell_type": "code",
   "execution_count": 2,
   "metadata": {
    "_cell_guid": "b1076dfc-b9ad-4769-8c92-a6c4dae69d19",
    "_uuid": "8f2839f25d086af736a60e9eeb907d3b93b6e0e5",
    "execution": {
     "iopub.execute_input": "2022-02-16T09:19:59.657498Z",
     "iopub.status.busy": "2022-02-16T09:19:59.656793Z",
     "iopub.status.idle": "2022-02-16T09:20:00.737218Z",
     "shell.execute_reply": "2022-02-16T09:20:00.736575Z",
     "shell.execute_reply.started": "2022-02-16T09:18:17.381639Z"
    },
    "papermill": {
     "duration": 1.095628,
     "end_time": "2022-02-16T09:20:00.737363",
     "exception": false,
     "start_time": "2022-02-16T09:19:59.641735",
     "status": "completed"
    },
    "tags": []
   },
   "outputs": [],
   "source": [
    "import numpy as np # linear algebra\n",
    "import pandas as pd # data processing, CSV file I/O (e.g. pd.read_csv)\n",
    "pd.set_option('display.max_rows', 100)\n",
    "\n",
    "from scipy.stats import rankdata\n",
    "\n",
    "import seaborn as sns\n",
    "import matplotlib.pyplot as plt\n",
    "\n",
    "import pickle"
   ]
  },
  {
   "cell_type": "code",
   "execution_count": 3,
   "metadata": {
    "execution": {
     "iopub.execute_input": "2022-02-16T09:20:00.771791Z",
     "iopub.status.busy": "2022-02-16T09:20:00.771046Z",
     "iopub.status.idle": "2022-02-16T09:20:00.785127Z",
     "shell.execute_reply": "2022-02-16T09:20:00.784552Z",
     "shell.execute_reply.started": "2022-02-16T09:18:18.368468Z"
    },
    "papermill": {
     "duration": 0.0332,
     "end_time": "2022-02-16T09:20:00.785283",
     "exception": false,
     "start_time": "2022-02-16T09:20:00.752083",
     "status": "completed"
    },
    "tags": []
   },
   "outputs": [],
   "source": [
    "def create_validation_features ():\n",
    "    df_valid_pair = pd.read_csv(\"../processed/validation.csv\")\n",
    "    df_valid_fe = pd.read_csv(\"../processed/valid_text_detoxify_fe.csv\")\n",
    "\n",
    "    df_valid_fe_2 = pd.read_csv(\"../processed/valid_text_jc_tfidf_fe.csv\")\n",
    "    df_valid_fe_2 = df_valid_fe_2[[\"jc_tfidf_toxic\",\"jc_tfidf_severe_toxic\",\"jc_tfidf_obscene\",\"jc_tfidf_threat\",\"jc_tfidf_insult\",\"jc_tfidf_identity_hate\"]]\n",
    "    \n",
    "    df_valid_fe_3 = pd.read_csv(\"../processed/valid_text_juc_tfidf_fe.csv\")\n",
    "    df_valid_fe_3 = df_valid_fe_3[['juc_tfidf_toxicity', 'juc_tfidf_severe_toxicity','juc_tfidf_obscene', 'juc_tfidf_sexual_explicit','juc_tfidf_identity_attack', 'juc_tfidf_insult', 'juc_tfidf_threat']]\n",
    "    \n",
    "    df_valid_fe = pd.concat ( [df_valid_fe,df_valid_fe_2, df_valid_fe_3], axis=1)    \n",
    "    \n",
    "    return df_valid_pair, df_valid_fe\n",
    "\n",
    "    \n",
    "def create_rud_features ():\n",
    "    df_valid_pair = pd.read_csv(\"../processed/rud_pair.csv\")\n",
    "    df_valid_fe = pd.read_csv(\"../processed/rud_text_detoxify_fe.csv\")\n",
    "\n",
    "    df_valid_fe_2 = pd.read_csv(\"../processed/rud_text_jc_tfidf_fe.csv\")\n",
    "    df_valid_fe_2 = df_valid_fe_2[[\"jc_tfidf_toxic\",\"jc_tfidf_severe_toxic\",\"jc_tfidf_obscene\",\"jc_tfidf_threat\",\"jc_tfidf_insult\",\"jc_tfidf_identity_hate\"]]\n",
    "\n",
    "    df_valid_fe_3 = pd.read_csv(\"../processed/rud_text_juc_tfidf_fe.csv\")\n",
    "    df_valid_fe_3 = df_valid_fe_3[['juc_tfidf_toxicity', 'juc_tfidf_severe_toxicity','juc_tfidf_obscene', 'juc_tfidf_sexual_explicit','juc_tfidf_identity_attack', 'juc_tfidf_insult', 'juc_tfidf_threat']]\n",
    "    \n",
    "    df_valid_fe = pd.concat ( [df_valid_fe,df_valid_fe_2, df_valid_fe_3], axis=1)    \n",
    "    \n",
    "    return df_valid_pair, df_valid_fe\n",
    "\n",
    "\n",
    "def validate(df_valid_pair,df_valid_text, pred):\n",
    "    \n",
    "\n",
    "    ### rud\n",
    "    if \"comment_id\" in df_valid_text.columns:\n",
    "        m = { a:b for a, b in zip(df_valid_text[\"comment_id\"].values, pred)  }\n",
    "        p_less = df_valid_pair[\"less_toxic_id\"].map(lambda x: m[x] )\n",
    "        p_more = df_valid_pair[\"more_toxic_id\"].map(lambda x: m[x] )\n",
    "        return (p_less < p_more).mean()\n",
    "    \n",
    "    else:\n",
    "        m = { a:b for a, b in zip(df_valid_text[\"text\"].values, pred)  }\n",
    "        \n",
    "        df_valid_pair = df_valid_pair.copy()\n",
    "        #df_valid_pair = df_valid_pair.query(\"count == 3\").copy()\n",
    "        \n",
    "        df_valid_pair[\"less_toxic_score\"] = df_valid_pair[\"less_toxic\"].map(lambda x: m[x] )\n",
    "        df_valid_pair[\"more_toxic_score\"] = df_valid_pair[\"more_toxic\"].map(lambda x: m[x] )\n",
    "        \n",
    "        d_a = df_valid_pair.query(\"less_toxic_score < more_toxic_score and avg_agreement == 1.0\") \n",
    "        d_b = df_valid_pair.query(\"less_toxic_score < more_toxic_score and avg_agreement < 1.0\") \n",
    "        d_c = df_valid_pair.query(\"less_toxic_score > more_toxic_score and avg_agreement < 1.0\") \n",
    "\n",
    "        return (d_a[\"count\"].sum() + d_b.shape[0]*2 + d_c.shape[0])/df_valid_pair[\"count\"].sum()\n",
    "    \n",
    "\n",
    "def avg_predict (df_valid_text, cols):\n",
    "    for k, col in enumerate(cols):\n",
    "        p = rankdata(df_valid_text[col].values, method='ordinal')\n",
    "\n",
    "        if k == 0:\n",
    "            y = p\n",
    "        else:    \n",
    "            y = y + p  \n",
    "    return y\n",
    "\n",
    "def sklearn_predict (df_valid_text, model_path, model_name, cols, folds = 5):\n",
    "    pred = np.zeros ((df_valid_text.shape[0]))\n",
    "    X = df_valid_text [cols].values\n",
    "\n",
    "\n",
    "    for fold in range(5):\n",
    "        model = pickle.load(open(f\"{model_path}/{model_name}_{fold}.pkl\", 'rb'))\n",
    "\n",
    "        pred += model.predict ( X )\n",
    "        \n",
    "    return pred"
   ]
  },
  {
   "cell_type": "code",
   "execution_count": 4,
   "metadata": {
    "execution": {
     "iopub.execute_input": "2022-02-16T09:20:00.809411Z",
     "iopub.status.busy": "2022-02-16T09:20:00.808728Z",
     "iopub.status.idle": "2022-02-16T09:20:02.688365Z",
     "shell.execute_reply": "2022-02-16T09:20:02.687647Z",
     "shell.execute_reply.started": "2022-02-16T09:18:18.386679Z"
    },
    "papermill": {
     "duration": 1.89303,
     "end_time": "2022-02-16T09:20:02.688552",
     "exception": false,
     "start_time": "2022-02-16T09:20:00.795522",
     "status": "completed"
    },
    "tags": []
   },
   "outputs": [],
   "source": [
    "val_pair, val_text = create_validation_features ()\n",
    "rud_pair, rud_text = create_rud_features ()"
   ]
  },
  {
   "cell_type": "markdown",
   "metadata": {
    "papermill": {
     "duration": 0.009264,
     "end_time": "2022-02-16T09:20:02.707290",
     "exception": false,
     "start_time": "2022-02-16T09:20:02.698026",
     "status": "completed"
    },
    "tags": []
   },
   "source": [
    "###  Mean Models"
   ]
  },
  {
   "cell_type": "code",
   "execution_count": 5,
   "metadata": {
    "execution": {
     "iopub.execute_input": "2022-02-16T09:20:02.729264Z",
     "iopub.status.busy": "2022-02-16T09:20:02.728611Z",
     "iopub.status.idle": "2022-02-16T09:20:05.899663Z",
     "shell.execute_reply": "2022-02-16T09:20:05.899040Z",
     "shell.execute_reply.started": "2022-02-16T09:18:19.836338Z"
    },
    "papermill": {
     "duration": 3.183064,
     "end_time": "2022-02-16T09:20:05.899815",
     "exception": false,
     "start_time": "2022-02-16T09:20:02.716751",
     "status": "completed"
    },
    "tags": []
   },
   "outputs": [
    {
     "name": "stdout",
     "output_type": "stream",
     "text": [
      "Mean of ['original_toxicity', 'original_severe_toxicity', 'original_identity_attack', 'unbiased_toxicity', 'unbiased_severe_toxicity', 'unbiased_identity_attack', 'unbiased_insult', 'multilingual_toxicity', 'multilingual_sexual_explicit', 'original-small_toxicity', 'unbiased-small_severe_toxicity', 'unbiased-small_obscene', 'jc_tfidf_toxic']\n",
      "VAL: 0.70779, RUD: 0.81327\n"
     ]
    }
   ],
   "source": [
    "cols = ['original_toxicity', 'original_severe_toxicity', \n",
    "       'original_identity_attack', \n",
    "        'unbiased_toxicity', 'unbiased_severe_toxicity', 'unbiased_identity_attack', 'unbiased_insult', \n",
    "        'multilingual_toxicity', 'multilingual_sexual_explicit', \n",
    "        'original-small_toxicity', \n",
    "        'unbiased-small_severe_toxicity', 'unbiased-small_obscene', \n",
    "        'jc_tfidf_toxic']\n",
    "\n",
    "\n",
    "\n",
    "\n",
    "y = avg_predict (rud_text, cols)\n",
    "rud_score = validate (rud_pair,rud_text, y)\n",
    "\n",
    "y = avg_predict (val_text, cols)\n",
    "val_score = validate (val_pair,val_text, y)\n",
    "print(f\"Mean of {cols}\\nVAL: {val_score:.5f}, RUD: {rud_score:.5f}\")    "
   ]
  },
  {
   "cell_type": "code",
   "execution_count": 6,
   "metadata": {
    "execution": {
     "iopub.execute_input": "2022-02-16T09:20:05.927887Z",
     "iopub.status.busy": "2022-02-16T09:20:05.927128Z",
     "iopub.status.idle": "2022-02-16T09:20:45.088001Z",
     "shell.execute_reply": "2022-02-16T09:20:45.087135Z",
     "shell.execute_reply.started": "2022-02-16T09:18:21.466848Z"
    },
    "papermill": {
     "duration": 39.178489,
     "end_time": "2022-02-16T09:20:45.088159",
     "exception": false,
     "start_time": "2022-02-16T09:20:05.909670",
     "status": "completed"
    },
    "tags": []
   },
   "outputs": [
    {
     "name": "stdout",
     "output_type": "stream",
     "text": [
      "original_toxicity VAL: 0.00017, RUD: 0.00102\n",
      "original_severe_toxicity VAL: 0.00046, RUD: -0.00031\n",
      "original_identity_attack VAL: -0.00080, RUD: 0.00440\n",
      "unbiased_toxicity VAL: 0.00033, RUD: 0.00210\n",
      "unbiased_severe_toxicity VAL: 0.00056, RUD: -0.00102\n",
      "unbiased_identity_attack VAL: 0.00093, RUD: 0.00234\n",
      "unbiased_insult VAL: 0.00060, RUD: 0.00391\n",
      "multilingual_toxicity VAL: 0.00083, RUD: 0.00189\n",
      "multilingual_sexual_explicit VAL: 0.00033, RUD: -0.00291\n",
      "original-small_toxicity VAL: 0.00013, RUD: -0.00245\n",
      "unbiased-small_severe_toxicity VAL: 0.00063, RUD: 0.00153\n",
      "unbiased-small_obscene VAL: 0.00093, RUD: -0.00049\n",
      "jc_tfidf_toxic VAL: -0.00033, RUD: -0.00564\n"
     ]
    }
   ],
   "source": [
    "selected_cols = ['original_toxicity', 'original_severe_toxicity', \n",
    "       'original_identity_attack', \n",
    "        'unbiased_toxicity', 'unbiased_severe_toxicity', 'unbiased_identity_attack', 'unbiased_insult', \n",
    "        'multilingual_toxicity', 'multilingual_sexual_explicit', \n",
    "        'original-small_toxicity', \n",
    "        'unbiased-small_severe_toxicity', 'unbiased-small_obscene', \n",
    "        'jc_tfidf_toxic']\n",
    "\n",
    "rud_gain = []\n",
    "val_gain = []\n",
    "for col in selected_cols:\n",
    "    cols = [c for c in selected_cols if c != col]\n",
    "    y = avg_predict (rud_text, cols)\n",
    "    col_rud_score = validate (rud_pair,rud_text, y)\n",
    "    \n",
    "    col_rud_gain = rud_score - col_rud_score\n",
    "    rud_gain.append ( col_rud_gain)\n",
    "    \n",
    "    y = avg_predict (val_text, cols)\n",
    "    col_val_score = validate (val_pair,val_text, y)\n",
    "\n",
    "    col_val_gain = val_score - col_val_score\n",
    "    val_gain.append ( col_val_gain)\n",
    "\n",
    "    \n",
    "    print(f\"{col} VAL: {col_val_gain:.5f}, RUD: {col_rud_gain:.5f}\")    \n",
    "    "
   ]
  },
  {
   "cell_type": "code",
   "execution_count": 7,
   "metadata": {
    "execution": {
     "iopub.execute_input": "2022-02-16T09:20:45.123322Z",
     "iopub.status.busy": "2022-02-16T09:20:45.122387Z",
     "iopub.status.idle": "2022-02-16T09:20:45.135319Z",
     "shell.execute_reply": "2022-02-16T09:20:45.135922Z",
     "shell.execute_reply.started": "2022-02-16T09:18:42.619246Z"
    },
    "papermill": {
     "duration": 0.034607,
     "end_time": "2022-02-16T09:20:45.136084",
     "exception": false,
     "start_time": "2022-02-16T09:20:45.101477",
     "status": "completed"
    },
    "tags": []
   },
   "outputs": [
    {
     "data": {
      "text/html": [
       "<div>\n",
       "<style scoped>\n",
       "    .dataframe tbody tr th:only-of-type {\n",
       "        vertical-align: middle;\n",
       "    }\n",
       "\n",
       "    .dataframe tbody tr th {\n",
       "        vertical-align: top;\n",
       "    }\n",
       "\n",
       "    .dataframe thead th {\n",
       "        text-align: right;\n",
       "    }\n",
       "</style>\n",
       "<table border=\"1\" class=\"dataframe\">\n",
       "  <thead>\n",
       "    <tr style=\"text-align: right;\">\n",
       "      <th></th>\n",
       "      <th>feature</th>\n",
       "      <th>rud_importance</th>\n",
       "      <th>val_importance</th>\n",
       "    </tr>\n",
       "  </thead>\n",
       "  <tbody>\n",
       "    <tr>\n",
       "      <th>0</th>\n",
       "      <td>original_toxicity</td>\n",
       "      <td>0.001019</td>\n",
       "      <td>0.000166</td>\n",
       "    </tr>\n",
       "    <tr>\n",
       "      <th>1</th>\n",
       "      <td>original_severe_toxicity</td>\n",
       "      <td>-0.000310</td>\n",
       "      <td>0.000465</td>\n",
       "    </tr>\n",
       "    <tr>\n",
       "      <th>2</th>\n",
       "      <td>original_identity_attack</td>\n",
       "      <td>0.004399</td>\n",
       "      <td>-0.000797</td>\n",
       "    </tr>\n",
       "    <tr>\n",
       "      <th>3</th>\n",
       "      <td>unbiased_toxicity</td>\n",
       "      <td>0.002104</td>\n",
       "      <td>0.000332</td>\n",
       "    </tr>\n",
       "    <tr>\n",
       "      <th>4</th>\n",
       "      <td>unbiased_severe_toxicity</td>\n",
       "      <td>-0.001023</td>\n",
       "      <td>0.000565</td>\n",
       "    </tr>\n",
       "    <tr>\n",
       "      <th>5</th>\n",
       "      <td>unbiased_identity_attack</td>\n",
       "      <td>0.002336</td>\n",
       "      <td>0.000930</td>\n",
       "    </tr>\n",
       "    <tr>\n",
       "      <th>6</th>\n",
       "      <td>unbiased_insult</td>\n",
       "      <td>0.003913</td>\n",
       "      <td>0.000598</td>\n",
       "    </tr>\n",
       "    <tr>\n",
       "      <th>7</th>\n",
       "      <td>multilingual_toxicity</td>\n",
       "      <td>0.001891</td>\n",
       "      <td>0.000830</td>\n",
       "    </tr>\n",
       "    <tr>\n",
       "      <th>8</th>\n",
       "      <td>multilingual_sexual_explicit</td>\n",
       "      <td>-0.002912</td>\n",
       "      <td>0.000332</td>\n",
       "    </tr>\n",
       "    <tr>\n",
       "      <th>9</th>\n",
       "      <td>original-small_toxicity</td>\n",
       "      <td>-0.002455</td>\n",
       "      <td>0.000133</td>\n",
       "    </tr>\n",
       "    <tr>\n",
       "      <th>10</th>\n",
       "      <td>unbiased-small_severe_toxicity</td>\n",
       "      <td>0.001535</td>\n",
       "      <td>0.000631</td>\n",
       "    </tr>\n",
       "    <tr>\n",
       "      <th>11</th>\n",
       "      <td>unbiased-small_obscene</td>\n",
       "      <td>-0.000495</td>\n",
       "      <td>0.000930</td>\n",
       "    </tr>\n",
       "    <tr>\n",
       "      <th>12</th>\n",
       "      <td>jc_tfidf_toxic</td>\n",
       "      <td>-0.005638</td>\n",
       "      <td>-0.000332</td>\n",
       "    </tr>\n",
       "  </tbody>\n",
       "</table>\n",
       "</div>"
      ],
      "text/plain": [
       "                           feature  rud_importance  val_importance\n",
       "0                original_toxicity        0.001019        0.000166\n",
       "1         original_severe_toxicity       -0.000310        0.000465\n",
       "2         original_identity_attack        0.004399       -0.000797\n",
       "3                unbiased_toxicity        0.002104        0.000332\n",
       "4         unbiased_severe_toxicity       -0.001023        0.000565\n",
       "5         unbiased_identity_attack        0.002336        0.000930\n",
       "6                  unbiased_insult        0.003913        0.000598\n",
       "7            multilingual_toxicity        0.001891        0.000830\n",
       "8     multilingual_sexual_explicit       -0.002912        0.000332\n",
       "9          original-small_toxicity       -0.002455        0.000133\n",
       "10  unbiased-small_severe_toxicity        0.001535        0.000631\n",
       "11          unbiased-small_obscene       -0.000495        0.000930\n",
       "12                  jc_tfidf_toxic       -0.005638       -0.000332"
      ]
     },
     "execution_count": 7,
     "metadata": {},
     "output_type": "execute_result"
    }
   ],
   "source": [
    "df = pd.DataFrame ({\n",
    "    \"feature\":selected_cols,\n",
    "    \"rud_importance\" :rud_gain,\n",
    "    \"val_importance\":val_gain,\n",
    "}\n",
    ")\n",
    "\n",
    "df"
   ]
  }
 ],
 "metadata": {
  "kernelspec": {
   "display_name": "Python 3",
   "language": "python",
   "name": "python3"
  },
  "language_info": {
   "codemirror_mode": {
    "name": "ipython",
    "version": 3
   },
   "file_extension": ".py",
   "mimetype": "text/x-python",
   "name": "python",
   "nbconvert_exporter": "python",
   "pygments_lexer": "ipython3",
   "version": "3.7.4"
  },
  "papermill": {
   "default_parameters": {},
   "duration": 93.627294,
   "end_time": "2022-02-16T09:20:56.675161",
   "environment_variables": {},
   "exception": null,
   "input_path": "__notebook__.ipynb",
   "output_path": "__notebook__.ipynb",
   "parameters": {},
   "start_time": "2022-02-16T09:19:23.047867",
   "version": "2.3.3"
  }
 },
 "nbformat": 4,
 "nbformat_minor": 5
}
