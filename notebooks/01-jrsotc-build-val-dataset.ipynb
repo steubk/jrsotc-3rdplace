{
 "cells": [
  {
   "cell_type": "code",
   "execution_count": 2,
   "metadata": {
    "_cell_guid": "b1076dfc-b9ad-4769-8c92-a6c4dae69d19",
    "_uuid": "8f2839f25d086af736a60e9eeb907d3b93b6e0e5",
    "execution": {
     "iopub.execute_input": "2022-02-15T15:23:26.966754Z",
     "iopub.status.busy": "2022-02-15T15:23:26.966125Z",
     "iopub.status.idle": "2022-02-15T15:23:28.561574Z",
     "shell.execute_reply": "2022-02-15T15:23:28.560920Z",
     "shell.execute_reply.started": "2022-02-15T15:22:21.945062Z"
    },
    "papermill": {
     "duration": 1.603586,
     "end_time": "2022-02-15T15:23:28.561694",
     "exception": false,
     "start_time": "2022-02-15T15:23:26.958108",
     "status": "completed"
    },
    "tags": []
   },
   "outputs": [
    {
     "name": "stdout",
     "output_type": "stream",
     "text": [
      "df_val:30108\n",
      "df_text:14251\n"
     ]
    },
    {
     "data": {
      "text/html": [
       "<div>\n",
       "<style scoped>\n",
       "    .dataframe tbody tr th:only-of-type {\n",
       "        vertical-align: middle;\n",
       "    }\n",
       "\n",
       "    .dataframe tbody tr th {\n",
       "        vertical-align: top;\n",
       "    }\n",
       "\n",
       "    .dataframe thead th {\n",
       "        text-align: right;\n",
       "    }\n",
       "</style>\n",
       "<table border=\"1\" class=\"dataframe\">\n",
       "  <thead>\n",
       "    <tr style=\"text-align: right;\">\n",
       "      <th></th>\n",
       "      <th>text</th>\n",
       "    </tr>\n",
       "  </thead>\n",
       "  <tbody>\n",
       "    <tr>\n",
       "      <th>0</th>\n",
       "      <td>Whatever gave you the impression that I have t...</td>\n",
       "    </tr>\n",
       "    <tr>\n",
       "      <th>1</th>\n",
       "      <td>Jesus god you're fucking retarded \\n\\nwhat a ...</td>\n",
       "    </tr>\n",
       "    <tr>\n",
       "      <th>2</th>\n",
       "      <td>January 4, 2007 \\nIf you continue to damage a...</td>\n",
       "    </tr>\n",
       "    <tr>\n",
       "      <th>3</th>\n",
       "      <td>\"\\n\\nDC101 IS HIS FUCKING EMPLOYER!!! IF THAT ...</td>\n",
       "    </tr>\n",
       "    <tr>\n",
       "      <th>4</th>\n",
       "      <td>Don't see any attack, unlike the one YOU made ...</td>\n",
       "    </tr>\n",
       "  </tbody>\n",
       "</table>\n",
       "</div>"
      ],
      "text/plain": [
       "                                                text\n",
       "0  Whatever gave you the impression that I have t...\n",
       "1   Jesus god you're fucking retarded \\n\\nwhat a ...\n",
       "2   January 4, 2007 \\nIf you continue to damage a...\n",
       "3  \"\\n\\nDC101 IS HIS FUCKING EMPLOYER!!! IF THAT ...\n",
       "4  Don't see any attack, unlike the one YOU made ..."
      ]
     },
     "execution_count": 2,
     "metadata": {},
     "output_type": "execute_result"
    }
   ],
   "source": [
    "import pandas as pd \n",
    "import numpy as np\n",
    "from sklearn.preprocessing import LabelEncoder\n",
    "\n",
    "### validate\n",
    "df_val = pd.read_csv(\"../input/jigsaw-toxic-severity-rating/validation_data.csv\")\n",
    "print (f\"df_val:{df_val.shape[0]}\")\n",
    "texts =np.concatenate ( [df_val[\"less_toxic\"].values,df_val[\"more_toxic\"].values] )\n",
    "\n",
    "df_text = pd.DataFrame ({\n",
    "    \"text\":list(set(texts))\n",
    "})\n",
    "\n",
    "print (f\"df_text:{df_text.shape[0]}\")\n",
    "df_text.to_csv(\"../processed/validation_texts.csv\", index=False)\n",
    "\n",
    "df_text.head()"
   ]
  },
  {
   "cell_type": "code",
   "execution_count": 3,
   "metadata": {
    "execution": {
     "iopub.execute_input": "2022-02-15T15:23:28.589939Z",
     "iopub.status.busy": "2022-02-15T15:23:28.582054Z",
     "iopub.status.idle": "2022-02-15T15:23:30.910593Z",
     "shell.execute_reply": "2022-02-15T15:23:30.910125Z",
     "shell.execute_reply.started": "2022-02-15T15:22:23.832749Z"
    },
    "papermill": {
     "duration": 2.342556,
     "end_time": "2022-02-15T15:23:30.910718",
     "exception": false,
     "start_time": "2022-02-15T15:23:28.568162",
     "status": "completed"
    },
    "tags": []
   },
   "outputs": [
    {
     "data": {
      "text/html": [
       "<div>\n",
       "<style scoped>\n",
       "    .dataframe tbody tr th:only-of-type {\n",
       "        vertical-align: middle;\n",
       "    }\n",
       "\n",
       "    .dataframe tbody tr th {\n",
       "        vertical-align: top;\n",
       "    }\n",
       "\n",
       "    .dataframe thead th {\n",
       "        text-align: right;\n",
       "    }\n",
       "</style>\n",
       "<table border=\"1\" class=\"dataframe\">\n",
       "  <thead>\n",
       "    <tr style=\"text-align: right;\">\n",
       "      <th></th>\n",
       "      <th>less_toxic</th>\n",
       "      <th>more_toxic</th>\n",
       "      <th>count</th>\n",
       "      <th>avg_agreement</th>\n",
       "    </tr>\n",
       "  </thead>\n",
       "  <tbody>\n",
       "    <tr>\n",
       "      <th>0</th>\n",
       "      <td>\"::you wouldn't know Makoto from Street Fighte...</td>\n",
       "      <td>\\n\\nThe comment directly above this one are fr...</td>\n",
       "      <td>3</td>\n",
       "      <td>0.666667</td>\n",
       "    </tr>\n",
       "    <tr>\n",
       "      <th>1</th>\n",
       "      <td>I just read what you wrote; neither of the tw...</td>\n",
       "      <td>\\n\\nwhy should people have to read crap posted...</td>\n",
       "      <td>3</td>\n",
       "      <td>1.000000</td>\n",
       "    </tr>\n",
       "    <tr>\n",
       "      <th>2</th>\n",
       "      <td>\"\\n\\nI don't know which \"\"personal attacks\"\" y...</td>\n",
       "      <td>\\n\\nwhy should people have to read crap posted...</td>\n",
       "      <td>3</td>\n",
       "      <td>1.000000</td>\n",
       "    </tr>\n",
       "    <tr>\n",
       "      <th>3</th>\n",
       "      <td>Yes it is. This is NOT an encyclopedia, it is ...</td>\n",
       "      <td>\\n\\nwhy should people have to read crap posted...</td>\n",
       "      <td>3</td>\n",
       "      <td>0.666667</td>\n",
       "    </tr>\n",
       "    <tr>\n",
       "      <th>4</th>\n",
       "      <td>people like you are the reason wikipedia is us...</td>\n",
       "      <td>\\nGo F yourself you cottonheadednittymuggins.</td>\n",
       "      <td>3</td>\n",
       "      <td>0.666667</td>\n",
       "    </tr>\n",
       "  </tbody>\n",
       "</table>\n",
       "</div>"
      ],
      "text/plain": [
       "                                          less_toxic  \\\n",
       "0  \"::you wouldn't know Makoto from Street Fighte...   \n",
       "1   I just read what you wrote; neither of the tw...   \n",
       "2  \"\\n\\nI don't know which \"\"personal attacks\"\" y...   \n",
       "3  Yes it is. This is NOT an encyclopedia, it is ...   \n",
       "4  people like you are the reason wikipedia is us...   \n",
       "\n",
       "                                          more_toxic  count  avg_agreement  \n",
       "0  \\n\\nThe comment directly above this one are fr...      3       0.666667  \n",
       "1  \\n\\nwhy should people have to read crap posted...      3       1.000000  \n",
       "2  \\n\\nwhy should people have to read crap posted...      3       1.000000  \n",
       "3  \\n\\nwhy should people have to read crap posted...      3       0.666667  \n",
       "4      \\nGo F yourself you cottonheadednittymuggins.      3       0.666667  "
      ]
     },
     "execution_count": 3,
     "metadata": {},
     "output_type": "execute_result"
    }
   ],
   "source": [
    "text_encoder = LabelEncoder ()\n",
    "text_encoder.fit(texts)\n",
    "\n",
    "df_val[\"less_toxic\"]=text_encoder.transform(df_val[\"less_toxic\"])\n",
    "df_val[\"more_toxic\"]=text_encoder.transform(df_val[\"more_toxic\"])\n",
    "df_val[\"text_a\"] = df_val.apply(lambda row: row[\"less_toxic\"] if row[\"less_toxic\"]  <  row[\"more_toxic\"] else  row[\"more_toxic\"],axis=1).astype(int)\n",
    "df_val[\"text_b\"] = df_val.apply(lambda row: row[\"more_toxic\"] if row[\"less_toxic\"]  <  row[\"more_toxic\"] else  row[\"less_toxic\"],axis=1).astype(int)\n",
    "df_val[\"win_a\"] = df_val.apply(lambda row: 0 if row[\"less_toxic\"]  <  row[\"more_toxic\"] else 1,axis=1)\n",
    "df_val[\"win_b\"] = df_val.apply(lambda row: 1 if row[\"less_toxic\"]  <  row[\"more_toxic\"] else 0,axis=1)\n",
    "df_val_agg = df_val.groupby([\"text_a\",\"text_b\"]).agg({\"win_a\":\"sum\",\"win_b\":\"sum\"}).reset_index()\n",
    "\n",
    "df_val_agg[\"less_toxic\"] = df_val_agg.apply (lambda row: row[\"text_a\"] if row[\"win_a\"]< row[\"win_b\"] else row[\"text_b\"], axis=1 )\n",
    "df_val_agg[\"more_toxic\"] = df_val_agg.apply (lambda row: row[\"text_b\"] if row[\"win_a\"]< row[\"win_b\"] else row[\"text_a\"], axis=1 )\n",
    "df_val_agg[\"count\"] = df_val_agg[\"win_a\"]+df_val_agg[\"win_b\"]\n",
    "df_val_agg[\"count\"] = df_val_agg[\"win_a\"]+df_val_agg[\"win_b\"]\n",
    "df_val_agg[\"perc_win_a\"] = df_val_agg[\"win_a\"]/df_val_agg[\"count\"]\n",
    "df_val_agg[\"perc_win_b\"] = df_val_agg[\"win_b\"]/df_val_agg[\"count\"]\n",
    "df_val_agg[\"avg_agreement\"] = df_val_agg[[\"perc_win_a\",\"perc_win_b\"]].max(axis=1)\n",
    "df_val_agg[\"less_toxic\"] = text_encoder.inverse_transform ( df_val_agg[\"less_toxic\"] )\n",
    "df_val_agg[\"more_toxic\"] = text_encoder.inverse_transform ( df_val_agg[\"more_toxic\"] )\n",
    "df_val_agg = df_val_agg [[\"less_toxic\", \"more_toxic\", \"count\", \"avg_agreement\"]]\n",
    "\n",
    "\n",
    "df_val_agg.to_csv(\"../processed/validation.csv\", index=False)\n",
    "\n",
    "df_val_agg.head()"
   ]
  }
 ],
 "metadata": {
  "kernelspec": {
   "display_name": "Python 3",
   "language": "python",
   "name": "python3"
  },
  "language_info": {
   "codemirror_mode": {
    "name": "ipython",
    "version": 3
   },
   "file_extension": ".py",
   "mimetype": "text/x-python",
   "name": "python",
   "nbconvert_exporter": "python",
   "pygments_lexer": "ipython3",
   "version": "3.7.4"
  },
  "papermill": {
   "default_parameters": {},
   "duration": 13.234036,
   "end_time": "2022-02-15T15:23:32.383321",
   "environment_variables": {},
   "exception": null,
   "input_path": "__notebook__.ipynb",
   "output_path": "__notebook__.ipynb",
   "parameters": {},
   "start_time": "2022-02-15T15:23:19.149285",
   "version": "2.3.3"
  }
 },
 "nbformat": 4,
 "nbformat_minor": 5
}
